{
 "cells": [
  {
   "cell_type": "code",
   "execution_count": 20,
   "metadata": {},
   "outputs": [],
   "source": [
    "class Character():\n",
    "    \n",
    "    # ici on utilise deux attributs de classe.\n",
    "    speed = 1\n",
    "    positions = {}\n",
    "    vision = 10\n",
    "    \n",
    "    def __init__(self, name, isPlayer=False):\n",
    "        \"\"\"Les attributs définis ici sont des attributs d'instance.\"\"\"\n",
    "        self.isPlayer = isPlayer\n",
    "        self.name = name\n",
    "        self.position = 1, 2\n",
    "        \n",
    "        # On accède à l'attribut de classe \"positions\" avec self (c'est possible).\n",
    "        self.positions[self.position] = self.name\n",
    "    \n",
    "    def attack(self):\n",
    "        \"\"\"Cette méthode est une méthode d'instance.\"\"\"\n",
    "        print(f\"{self.name} is attacking\")\n",
    "    \n",
    "    @classmethod\n",
    "    def scan_(cls, distance, objectType=\"enemy\"):\n",
    "        \"\"\"Retrouve un oiseau selon la position donnée.\"\"\"\n",
    "        if distance <= cls.vision:\n",
    "            return f\"On a trouvé un {objectType} !\"\n",
    "\n",
    "        return \"On a rien trouvé...\""
   ]
  },
  {
   "cell_type": "code",
   "execution_count": 21,
   "metadata": {},
   "outputs": [],
   "source": [
    "class Animal:\n",
    "    def __init__(self, name, race):\n",
    "        self.name = name\n",
    "        self.race = race"
   ]
  },
  {
   "cell_type": "code",
   "execution_count": 22,
   "metadata": {},
   "outputs": [
    {
     "name": "stdout",
     "output_type": "stream",
     "text": [
      "John Smith is attacking\n"
     ]
    }
   ],
   "source": [
    "john = Character(\"John Smith\", isPlayer=True)\n",
    "john.attack()"
   ]
  },
  {
   "cell_type": "code",
   "execution_count": 23,
   "metadata": {},
   "outputs": [
    {
     "data": {
      "text/plain": [
       "'On a trouvé un enemy !'"
      ]
     },
     "execution_count": 23,
     "metadata": {},
     "output_type": "execute_result"
    }
   ],
   "source": [
    "john.scan_(8)"
   ]
  }
 ],
 "metadata": {
  "kernelspec": {
   "display_name": "base",
   "language": "python",
   "name": "python3"
  },
  "language_info": {
   "codemirror_mode": {
    "name": "ipython",
    "version": 3
   },
   "file_extension": ".py",
   "mimetype": "text/x-python",
   "name": "python",
   "nbconvert_exporter": "python",
   "pygments_lexer": "ipython3",
   "version": "3.9.13"
  },
  "orig_nbformat": 4,
  "vscode": {
   "interpreter": {
    "hash": "3956b2a6fb40cc38024d73b72ef02caf6b42c4a14595df6abbed1d136adaad88"
   }
  }
 },
 "nbformat": 4,
 "nbformat_minor": 2
}
