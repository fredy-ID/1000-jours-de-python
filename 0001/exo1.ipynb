{
 "cells": [
  {
   "attachments": {},
   "cell_type": "markdown",
   "metadata": {},
   "source": [
    "### Le jeu est simple. L'utilisateur doit deviner le nombre généré aléatoirement qui se situe entre la plage de 1 à 100. C'est tout."
   ]
  },
  {
   "attachments": {},
   "cell_type": "markdown",
   "metadata": {},
   "source": [
    "\n",
    "    - Définir la plage des nombres. Par défaut, c'est 1-100 mais vous pouvez le changer comme vous préférez.\n",
    "    - Générer un entier aléatoire à partir de la plage ci-dessus (1-100).\n",
    "    - Démarrez le jeu en affichant à l'utilisateur un message disant \"Devinez le nombre de X à Y\". Vous pouvez mettre à jour le message comme vous le souhaitez.\n",
    "    - Initialiser une variable à 0 pour compter le nombre total de chances que l'utilisateur a prises pour deviner le nombre correctement.\n",
    "    - Écrire une boucle infinie.\n",
    "        - Demandez à l'utilisateur de deviner le nombre.\n",
    "        - Si le nombre deviné actuel est égal au nombre généré aléatoirement, félicitez l'utilisateur avec un message comme vous le souhaitez. Un exemple serait « -> Hourra ! Vous l'avez obtenu en 5 étapes !\".\n",
    "        - Brisez la boucle après avoir félicité l'utilisateur.\n",
    "        - Si le nombre deviné actuel est inférieur au nombre généré aléatoirement, envoyez un message à l'utilisateur en disant « -> Votre nombre est inférieur au nombre aléatoire » ou un message personnalisé ayant la même signification.\n",
    "        - Si le nombre deviné actuel est supérieur au nombre généré aléatoirement, envoyez un message à l'utilisateur disant « -> Votre nombre est supérieur au nombre aléatoire » ou une coutume avec le même sens.\n",
    "        - Enfin, augmentez les chances que l'utilisateur a prises pour deviner.\n"
   ]
  },
  {
   "attachments": {},
   "cell_type": "markdown",
   "metadata": {},
   "source": [
    "https://buzut.net/bien-commenter-son-code/"
   ]
  },
  {
   "cell_type": "code",
   "execution_count": null,
   "metadata": {},
   "outputs": [],
   "source": [
    "# Définir la possibilité de choisir la plage du nombre généré aléatoirement\n",
    "# Générer un nombre aléatoire à deviner\n",
    "# Définir le nombre de chances que l'utilisateur a en sa possession (ajustable)\n",
    "# \n",
    "# Féliciter l'utilisateur si le nombre a été retrouvé "
   ]
  },
  {
   "cell_type": "code",
   "execution_count": null,
   "metadata": {},
   "outputs": [],
   "source": [
    "class Devinette:\n",
    "    def __init__(self, nb_min, nb_max):\n",
    "        self.name = name\n",
    "        self.age = age"
   ]
  }
 ],
 "metadata": {
  "kernelspec": {
   "display_name": "base",
   "language": "python",
   "name": "python3"
  },
  "language_info": {
   "name": "python",
   "version": "3.9.13 (main, Aug 25 2022, 23:51:50) [MSC v.1916 64 bit (AMD64)]"
  },
  "orig_nbformat": 4,
  "vscode": {
   "interpreter": {
    "hash": "3956b2a6fb40cc38024d73b72ef02caf6b42c4a14595df6abbed1d136adaad88"
   }
  }
 },
 "nbformat": 4,
 "nbformat_minor": 2
}
